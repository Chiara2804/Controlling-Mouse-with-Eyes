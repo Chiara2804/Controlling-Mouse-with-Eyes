{
 "cells": [
  {
   "cell_type": "code",
   "execution_count": null,
   "metadata": {},
   "outputs": [],
   "source": [
    "!pip install mediapipe\n",
    "!pip install opencv-python\n",
    "!pip install PyAutoGUI"
   ]
  },
  {
   "cell_type": "code",
   "execution_count": null,
   "metadata": {},
   "outputs": [],
   "source": [
    "import cv2\n",
    "import mediapipe as mp\n",
    "import pyautogui"
   ]
  },
  {
   "cell_type": "code",
   "execution_count": null,
   "metadata": {},
   "outputs": [],
   "source": [
    "def show_webcam():\n",
    "    scale = 10\n",
    "\n",
    "    camera = cv2.VideoCapture(0)\n",
    "\n",
    "    face_mesh = mp.solutions.face_mesh.FaceMesh(refine_landmarks=True)\n",
    "    screen_w, screen_h = pyautogui.size()\n",
    "\n",
    "    while True:\n",
    "        _, frame = camera.read()\n",
    "        frame = cv2.flip(frame, 1)\n",
    "\n",
    "        height, width, channels = frame.shape\n",
    "        #cropping\n",
    "        centerX,centerY=int(height/2),int(width/2)\n",
    "        radiusX,radiusY= int(scale*height/100),int(scale*width/100)\n",
    "        minX,maxX=centerX-radiusX,centerX+radiusX\n",
    "        minY,maxY=centerY-radiusY,centerY+radiusY\n",
    "        cropped = frame[minX:maxX, minY:maxY]\n",
    "        resized_cropped = cv2.resize(cropped, (width, height))\n",
    "\n",
    "        rgb_frame = cv2.cvtColor(resized_cropped, cv2.COLOR_BGR2RGB)\n",
    "        output = face_mesh.process(rgb_frame)\n",
    "        landmark_points = output.multi_face_landmarks\n",
    "        # print(landmark_points)\n",
    "        frame_h, frame_w, _ = resized_cropped.shape\n",
    "        if landmark_points:\n",
    "            landmarks = landmark_points[0].landmark\n",
    "            for id, landmark in enumerate(landmarks[473:478]):\n",
    "                x = int(landmark.x * frame_w)\n",
    "                y = int(landmark.y * frame_h)\n",
    "                cv2.circle(resized_cropped, (x, y), 3, (0, 255, 0))\n",
    "                if id == 1:\n",
    "                    screen_x = screen_w / frame_w * x\n",
    "                    screen_y = screen_h / frame_h * y\n",
    "                    try:\n",
    "                        pyautogui.moveTo(screen_x, screen_y) \n",
    "                    except pyautogui.FailSafeException:\n",
    "                        print('Running code before exiting.')\n",
    "                        break\n",
    "                    pyautogui.moveTo(screen_x, screen_y)\n",
    "            # LEFT CLICK\n",
    "            left = [landmarks[145], landmarks[159]]\n",
    "            for landmark in left:\n",
    "                xl = int(landmark.x * frame_w)\n",
    "                yl = int(landmark.y * frame_h)\n",
    "                cv2.circle(resized_cropped, (xl, yl), 3, (0, 255, 255))\n",
    "            if (left[0].y - left[1].y) < 0.04:\n",
    "                # print('click')\n",
    "                pyautogui.click()\n",
    "                pyautogui.sleep(0.05)\n",
    "            # RIGHT CLICK\n",
    "            right = [landmarks[374], landmarks[386]]\n",
    "            for landmark in right:\n",
    "                xr = int(landmark.x * frame_w)\n",
    "                yr = int(landmark.y * frame_h)\n",
    "                cv2.circle(resized_cropped, (xr, yr), 3, (255, 0, 0))\n",
    "            if (right[0].y - right[1].y) < 0.02:\n",
    "                print(right[0].y - right[1].y)\n",
    "                # print('click')\n",
    "                pyautogui.click(button='right')\n",
    "                pyautogui.sleep(0.05)\n",
    "\n",
    "        cv2.imshow('Eyes Controlled Mouse', resized_cropped)\n",
    "        key = cv2.waitKey(10)\n",
    "        # if Esc key is press then break out of the loop \n",
    "        if key == 27: \n",
    "            break\n",
    "    \n",
    "    camera.release()\n",
    "    cv2.destroyAllWindows()\n",
    "\n",
    "def main():\n",
    "    show_webcam()\n",
    "\n",
    "if __name__ == '__main__':\n",
    "    main()"
   ]
  }
 ],
 "metadata": {
  "kernelspec": {
   "display_name": "Python 3.10.8 64-bit (microsoft store)",
   "language": "python",
   "name": "python3"
  },
  "language_info": {
   "codemirror_mode": {
    "name": "ipython",
    "version": 3
   },
   "file_extension": ".py",
   "mimetype": "text/x-python",
   "name": "python",
   "nbconvert_exporter": "python",
   "pygments_lexer": "ipython3",
   "version": "3.10.9"
  },
  "orig_nbformat": 4,
  "vscode": {
   "interpreter": {
    "hash": "84cd52724f44ef78e561d93902a7f967ba716c12d54f984697afb2b323f95dcc"
   }
  }
 },
 "nbformat": 4,
 "nbformat_minor": 2
}
